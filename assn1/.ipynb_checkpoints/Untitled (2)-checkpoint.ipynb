{
 "cells": [
  {
   "cell_type": "code",
   "execution_count": 1,
   "metadata": {},
   "outputs": [
    {
     "ename": "ModuleNotFoundError",
     "evalue": "No module named 'train'",
     "output_type": "error",
     "traceback": [
      "\u001b[0;31m---------------------------------------------------------------------------\u001b[0m",
      "\u001b[0;31mModuleNotFoundError\u001b[0m                       Traceback (most recent call last)",
      "\u001b[0;32m<ipython-input-1-220aadb35131>\u001b[0m in \u001b[0;36m<module>\u001b[0;34m\u001b[0m\n\u001b[1;32m      1\u001b[0m \u001b[0;32mimport\u001b[0m \u001b[0mnumpy\u001b[0m \u001b[0;32mas\u001b[0m \u001b[0mnp\u001b[0m\u001b[0;34m\u001b[0m\u001b[0;34m\u001b[0m\u001b[0m\n\u001b[0;32m----> 2\u001b[0;31m \u001b[0;32mimport\u001b[0m \u001b[0mtrain\u001b[0m\u001b[0;34m\u001b[0m\u001b[0;34m\u001b[0m\u001b[0m\n\u001b[0m",
      "\u001b[0;31mModuleNotFoundError\u001b[0m: No module named 'train'"
     ]
    }
   ],
   "source": [
    "import numpy as np\n",
    "import train"
   ]
  },
  {
   "cell_type": "code",
   "execution_count": 43,
   "metadata": {},
   "outputs": [
    {
     "data": {
      "text/plain": [
       "array([0.00268465, 0.79565151, 0.39196304, 0.15435916, 0.91374302,\n",
       "       0.90574621, 0.30665576, 0.38292575, 0.77746084, 0.75281938])"
      ]
     },
     "execution_count": 43,
     "metadata": {},
     "output_type": "execute_result"
    }
   ],
   "source": [
    "a = np.random.rand(10)"
   ]
  },
  {
   "cell_type": "code",
   "execution_count": 73,
   "metadata": {},
   "outputs": [],
   "source": [
    "lamda = 0"
   ]
  },
  {
   "cell_type": "code",
   "execution_count": 74,
   "metadata": {},
   "outputs": [],
   "source": [
    "x = np.random.rand(10)"
   ]
  },
  {
   "cell_type": "code",
   "execution_count": 75,
   "metadata": {},
   "outputs": [
    {
     "data": {
      "text/plain": [
       "2.436230736411894"
      ]
     },
     "execution_count": 75,
     "metadata": {},
     "output_type": "execute_result"
    }
   ],
   "source": [
    "def f(x,a,lamda):\n",
    "    y = (x-a).T*(x-a)\n",
    "    return np.sum(y) + lamda*np.sum(abs(x))\n",
    "f(x,a,lamda)"
   ]
  },
  {
   "cell_type": "code",
   "execution_count": 76,
   "metadata": {},
   "outputs": [],
   "source": [
    "def grad(x,a):\n",
    "    return x-a"
   ]
  },
  {
   "cell_type": "code",
   "execution_count": 77,
   "metadata": {},
   "outputs": [],
   "source": [
    "def prox(u,lamda):\n",
    "    d = u.shape[0]\n",
    "    l = [0]*d\n",
    "    for i in range(d):\n",
    "        if u[i] - lamda > 0:\n",
    "            l[i] = u[i] - lamda\n",
    "        elif lamda+u[i]<0:\n",
    "            l[i]= u[i] + lamda\n",
    "    return np.array(l)    "
   ]
  },
  {
   "cell_type": "code",
   "execution_count": 78,
   "metadata": {},
   "outputs": [
    {
     "name": "stdout",
     "output_type": "stream",
     "text": [
      "2.431360711169806\n",
      "1.9904306002395042\n",
      "1.6294636810445273\n",
      "1.3339585351650514\n",
      "1.0920435933859047\n",
      "0.8940002094650144\n",
      "0.7318722250321887\n",
      "0.5991463403505264\n",
      "0.49049045021436694\n",
      "0.4015394329384403\n",
      "0.32871978676456937\n",
      "0.2691060686612817\n",
      "0.22030336811515575\n",
      "0.1803510944376735\n",
      "0.14764421235659225\n",
      "0.12086876162501933\n",
      "0.09894907022485414\n",
      "0.08100454051757595\n",
      "0.0663142722771683\n",
      "0.05428810137743137\n",
      "0.044442890647251515\n",
      "0.036383120407019395\n",
      "0.02978499893398668\n",
      "0.0243834545133306\n",
      "0.019961486495983626\n",
      "0.016341447554590615\n",
      "0.01337790691255212\n",
      "0.010951807834834949\n",
      "0.008965684664662599\n",
      "0.0073397472562005996\n",
      "0.006008675499957667\n",
      "0.004918995164757328\n",
      "0.0040269296338396555\n",
      "0.00329664123113565\n",
      "0.0026987914850802306\n",
      "0.0022093624902678483\n",
      "0.001808692016551775\n",
      "0.001480683602237457\n",
      "0.0012121598977998978\n",
      "0.0009923332814748165\n",
      "0.0008123724793320417\n",
      "0.0006650477793058408\n",
      "0.0005444405860760874\n",
      "0.0004457056485118537\n",
      "0.00036487640744625407\n",
      "0.00029870564386024644\n",
      "0.00024453502570485593\n",
      "0.00020018831255981366\n",
      "0.00016388392775238886\n",
      "0.0001341633856248642\n",
      "0.00010983269860068446\n",
      "8.9914410147934e-05\n",
      "7.360832662086336e-05\n",
      "6.0259370428043315e-05\n",
      "4.933126306603702e-05\n",
      "4.038498076571316e-05\n",
      "3.306111723236605e-05\n",
      "2.7065444923531268e-05\n",
      "2.2157094805969646e-05\n",
      "1.8138879727553298e-05\n",
      "1.4849372657013014e-05\n",
      "1.21564215441553e-05\n",
      "9.951840267771089e-06\n",
      "8.147062386368004e-06\n",
      "6.669583086289308e-06\n",
      "5.460046386703098e-06\n",
      "4.469860583373976e-06\n",
      "3.6592461345134484e-06\n",
      "2.995637564792664e-06\n",
      "2.452375185959457e-06\n",
      "2.0076340754279123e-06\n",
      "1.6435472858702882e-06\n",
      "1.345488061770624e-06\n",
      "1.101482226846298e-06\n",
      "9.017271356990324e-07\n",
      "7.381978641487711e-07\n",
      "6.043248174090627e-07\n",
      "4.947298043971106e-07\n",
      "4.050099752779706e-07\n",
      "3.3156094218853224e-07\n",
      "2.7143197722323867e-07\n",
      "2.2220747043624337e-07\n",
      "1.8190988557400516e-07\n",
      "1.4892031489584678e-07\n",
      "1.219134414753561e-07\n",
      "9.980429616139395e-08\n",
      "8.170467022948453e-08\n",
      "6.688743264619749e-08\n",
      "5.475731844288931e-08\n",
      "4.482701464851884e-08\n",
      "3.6697583071053026e-08\n",
      "3.0042433425680346e-08\n",
      "2.4594202958602827e-08\n",
      "2.013401546405234e-08\n",
      "1.6482688192316358e-08\n",
      "1.3493533395322358e-08\n",
      "1.1046465319600903e-08\n",
      "9.043175903759928e-09\n",
      "7.403185368394567e-09\n",
      "6.0606090362480205e-09\n"
     ]
    }
   ],
   "source": [
    "for i in range(10000):\n",
    "    u = x-0.001*grad(x,a)\n",
    "    x = prox(u,lamda)\n",
    "    if(i%100 == 0): \n",
    "        print(f(x,a,lamda))"
   ]
  },
  {
   "cell_type": "code",
   "execution_count": 79,
   "metadata": {},
   "outputs": [
    {
     "name": "stdout",
     "output_type": "stream",
     "text": [
      "[0.00272008 0.79563453 0.39198163 0.15439126 0.91372086 0.90573244\n",
      " 0.30667157 0.38292624 0.77743803 0.75279486]\n"
     ]
    }
   ],
   "source": [
    "print(x)"
   ]
  },
  {
   "cell_type": "code",
   "execution_count": 80,
   "metadata": {},
   "outputs": [
    {
     "name": "stdout",
     "output_type": "stream",
     "text": [
      "[0.00268465 0.79565151 0.39196304 0.15435916 0.91374302 0.90574621\n",
      " 0.30665576 0.38292575 0.77746084 0.75281938]\n"
     ]
    }
   ],
   "source": [
    "print(a)"
   ]
  },
  {
   "cell_type": "code",
   "execution_count": 69,
   "metadata": {},
   "outputs": [
    {
     "data": {
      "text/plain": [
       "0"
      ]
     },
     "execution_count": 69,
     "metadata": {},
     "output_type": "execute_result"
    }
   ],
   "source": [
    "np.sum(abs(x))"
   ]
  },
  {
   "cell_type": "code",
   "execution_count": null,
   "metadata": {},
   "outputs": [],
   "source": []
  }
 ],
 "metadata": {
  "kernelspec": {
   "display_name": "Python 3",
   "language": "python",
   "name": "python3"
  },
  "language_info": {
   "codemirror_mode": {
    "name": "ipython",
    "version": 3
   },
   "file_extension": ".py",
   "mimetype": "text/x-python",
   "name": "python",
   "nbconvert_exporter": "python",
   "pygments_lexer": "ipython3",
   "version": "3.7.1"
  }
 },
 "nbformat": 4,
 "nbformat_minor": 2
}
